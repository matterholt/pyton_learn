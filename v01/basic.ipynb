{
 "cells": [
  {
   "cell_type": "markdown",
   "metadata": {},
   "source": [
    "## Scripting vs Programming"
   ]
  },
  {
   "cell_type": "markdown",
   "metadata": {},
   "source": []
  },
  {
   "cell_type": "code",
   "execution_count": 2,
   "metadata": {},
   "outputs": [
    {
     "name": "stdout",
     "output_type": "stream",
     "text": [
      "affirmtive\n",
      "contining..\n"
     ]
    }
   ],
   "source": [
    "#pythonForProgrammer/if.py\n",
    "response =\"yes\"\n",
    "if response == \"yes\":\n",
    "    print(\"affirmtive\")\n",
    "    val = 1\n",
    "print(\"contining..\")\n"
   ]
  },
  {
   "cell_type": "markdown",
   "metadata": {},
   "source": [
    "## Built-In Containers (arrays, list, dictionaries, maps)\n",
    "- java and C++ container are add-on libraries\n",
    "- Python automaticly creates them\n",
    "- Python automaticlly making for use an iterator that works throught a sequence"
   ]
  },
  {
   "cell_type": "code",
   "execution_count": 3,
   "metadata": {},
   "outputs": [
    {
     "name": "stdout",
     "output_type": "stream",
     "text": [
      "[1, 2, 3, 4, 5, 7, 9, 11]\n",
      "1\n",
      "2\n",
      "3\n",
      "4\n",
      "5\n",
      "7\n",
      "9\n",
      "11\n",
      "13\n"
     ]
    }
   ],
   "source": [
    "# list.py\n",
    "list = [1,2,3,4,5,7,9,11]\n",
    "print(list)\n",
    "list.append(13)\n",
    "for x in list:\n",
    "    print(x)"
   ]
  },
  {
   "cell_type": "markdown",
   "metadata": {},
   "source": [
    "## Functions\n",
    "- basic function structure"
   ]
  },
  {
   "cell_type": "code",
   "execution_count": 4,
   "metadata": {},
   "outputs": [
    {
     "name": "stdout",
     "output_type": "stream",
     "text": [
      "continuing...\n",
      "0\n",
      "affirmative\n",
      "continuing...\n",
      "1\n"
     ]
    }
   ],
   "source": [
    "# myFunction.py\n",
    "def myFunction(response):\n",
    "    val = 0\n",
    "    if response == \"yes\":\n",
    "        print('affirmative')\n",
    "        val = 1\n",
    "    print(\"continuing...\")\n",
    "    return val\n",
    "print(myFunction(\"no\"))\n",
    "print(myFunction(\"yes\"))"
   ]
  },
  {
   "cell_type": "markdown",
   "metadata": {},
   "source": [
    "Pythong is structurally-type language, could pass and return different types from the same function"
   ]
  },
  {
   "cell_type": "code",
   "execution_count": 5,
   "metadata": {},
   "outputs": [
    {
     "name": "stdout",
     "output_type": "stream",
     "text": [
      "one\n",
      "True\n"
     ]
    }
   ],
   "source": [
    "#differentReturns.py\n",
    "def differentReturns(arg):\n",
    "    if arg == 1:\n",
    "        return \"one\"\n",
    "    if arg == \"one\":\n",
    "        return True\n",
    "print(differentReturns(1))\n",
    "print(differentReturns(\"one\"))"
   ]
  },
  {
   "cell_type": "markdown",
   "metadata": {},
   "source": [
    "constraints on an object that is passed into the function are that the function can apply its operations to that object\n",
    "- Python don't care"
   ]
  },
  {
   "cell_type": "code",
   "execution_count": 6,
   "metadata": {},
   "outputs": [
    {
     "name": "stdout",
     "output_type": "stream",
     "text": [
      "89\n",
      "spam eggs\n"
     ]
    }
   ],
   "source": [
    "#sum.py\n",
    "def sum(arg1,arg2):\n",
    "    return arg1 + arg2\n",
    "print(sum(42, 47))\n",
    "print(sum('spam ', \"eggs\"))"
   ]
  },
  {
   "cell_type": "markdown",
   "metadata": {},
   "source": [
    "## Strings"
   ]
  },
  {
   "cell_type": "code",
   "execution_count": 23,
   "metadata": {},
   "outputs": [
    {
     "name": "stdout",
     "output_type": "stream",
     "text": [
      "The Number is 47\n",
      "val: 47, val2: 63.400000\n",
      "\n",
      " f strings are better\n",
      "val: 47, val2: 63.4\n"
     ]
    }
   ],
   "source": [
    "#Substitution in strings\n",
    "val = 47\n",
    "print(\"The Number is %d\" % val)\n",
    "val2 = 63.4\n",
    "s = \"val: %d, val2: %f\" % (val, val2)\n",
    "print(s)\n",
    "print(\"\\n f strings are better\")\n",
    "print(f\"val: {val}, val2: {val2}\")"
   ]
  },
  {
   "cell_type": "markdown",
   "metadata": {},
   "source": [
    "## Classes\n",
    "- simple class\n"
   ]
  },
  {
   "cell_type": "code",
   "execution_count": 25,
   "metadata": {},
   "outputs": [
    {
     "name": "stdout",
     "output_type": "stream",
     "text": [
      "Inside the Simple constructor\n",
      "constructor argument\n",
      "constructor argument\n",
      "A message: None\n"
     ]
    }
   ],
   "source": [
    "class Simple:\n",
    "    def __init__(self,str):\n",
    "        print(\"Inside the Simple constructor\")\n",
    "        self.s = str\n",
    "    #Two methods:\n",
    "    def show(self):\n",
    "        print(self.s)\n",
    "    def showMsg(self, msg):\n",
    "        print(msg + ':',\n",
    "        self.show()) #Call another method\n",
    "        \n",
    "if __name__ == \"__main__\":\n",
    "    #Create an Object\n",
    "    x = Simple(\"constructor argument\")\n",
    "    x.show()\n",
    "    x.showMsg(\"A message\")\n",
    "    "
   ]
  },
  {
   "cell_type": "markdown",
   "metadata": {},
   "source": [
    "## Inheritance\n"
   ]
  },
  {
   "cell_type": "code",
   "execution_count": 26,
   "metadata": {},
   "outputs": [
    {
     "name": "stdout",
     "output_type": "stream",
     "text": [
      "Inside Simple2 constructor\n",
      "Inside the Simple constructor\n",
      "Overridden show() method\n",
      "Simple2 constructor argument\n",
      "Called from display(): None\n",
      "Overridden show() method\n",
      "Simple2 constructor argument\n",
      "Overridden show() method\n",
      "Simple2 constructor argument\n",
      "inside main: None\n",
      "Overridden show() method\n",
      "Simple2 constructor argument\n",
      "Not derived from Simple\n"
     ]
    }
   ],
   "source": [
    "class Simple2(Simple):\n",
    "    def __init__(self, str):\n",
    "        print(\"Inside Simple2 constructor\")\n",
    "        # you must explicity call\n",
    "        #the base-class constructor:\n",
    "        Simple.__init__(self, str)\n",
    "    \n",
    "    def display(self):\n",
    "        self.showMsg(\"Called from display()\")\n",
    "    \n",
    "    #Overriding a base-class method\n",
    "    def show(self):\n",
    "        print(\"Overridden show() method\")\n",
    "        # calling a base-class method from inside\n",
    "        # the overridden method:\n",
    "        Simple.show(self)\n",
    "    \n",
    "class Different:\n",
    "    def show(self):\n",
    "        print(\"Not derived from Simple\")\n",
    "        \n",
    "if __name__ == \"__main__\":\n",
    "    x = Simple2(\"Simple2 constructor argument\")\n",
    "    x.display()\n",
    "    x.show()\n",
    "    x.showMsg(\"inside main\")\n",
    "    def f(obj): obj.show() # One-line definition\n",
    "    f(x)\n",
    "    f(Different())"
   ]
  },
  {
   "cell_type": "markdown",
   "metadata": {},
   "source": [
    "## Useful Techniques\n"
   ]
  },
  {
   "cell_type": "markdown",
   "metadata": {},
   "source": [
    "Turn a list into function arguments using *"
   ]
  },
  {
   "cell_type": "code",
   "execution_count": 33,
   "metadata": {},
   "outputs": [
    {
     "name": "stdout",
     "output_type": "stream",
     "text": [
      "5 6 7\n",
      "1 2 3\n"
     ]
    }
   ],
   "source": [
    "def f(a,b,c): print (a, b, c)\n",
    "x= [5,6,7]\n",
    "f(*x)\n",
    "f(*(1,2,3))"
   ]
  },
  {
   "cell_type": "markdown",
   "metadata": {},
   "source": [
    "can compose classes using import. method can be used multiple times"
   ]
  },
  {
   "cell_type": "code",
   "execution_count": 35,
   "metadata": {},
   "outputs": [],
   "source": [
    "#file: utility.py\n",
    "def f(self): print(\"utility.f()!!!\")"
   ]
  },
  {
   "cell_type": "code",
   "execution_count": 36,
   "metadata": {},
   "outputs": [
    {
     "ename": "ModuleNotFoundError",
     "evalue": "No module named 'utility'",
     "output_type": "error",
     "traceback": [
      "\u001b[0;31m---------------------------------------------------------------------------\u001b[0m",
      "\u001b[0;31mModuleNotFoundError\u001b[0m                       Traceback (most recent call last)",
      "\u001b[0;32m<ipython-input-36-56c1a716b828>\u001b[0m in \u001b[0;36m<module>\u001b[0;34m()\u001b[0m\n\u001b[0;32m----> 1\u001b[0;31m \u001b[0;32mclass\u001b[0m \u001b[0mCompose\u001b[0m\u001b[0;34m:\u001b[0m\u001b[0;34m\u001b[0m\u001b[0m\n\u001b[0m\u001b[1;32m      2\u001b[0m     \u001b[0;32mfrom\u001b[0m \u001b[0mutility\u001b[0m \u001b[0;32mimport\u001b[0m \u001b[0mf\u001b[0m\u001b[0;34m\u001b[0m\u001b[0m\n\u001b[1;32m      3\u001b[0m \u001b[0;34m\u001b[0m\u001b[0m\n\u001b[1;32m      4\u001b[0m \u001b[0mCompose\u001b[0m\u001b[0;34m(\u001b[0m\u001b[0;34m)\u001b[0m\u001b[0;34m.\u001b[0m\u001b[0mf\u001b[0m\u001b[0;34m(\u001b[0m\u001b[0;34m)\u001b[0m\u001b[0;34m\u001b[0m\u001b[0m\n",
      "\u001b[0;32m<ipython-input-36-56c1a716b828>\u001b[0m in \u001b[0;36mCompose\u001b[0;34m()\u001b[0m\n\u001b[1;32m      1\u001b[0m \u001b[0;32mclass\u001b[0m \u001b[0mCompose\u001b[0m\u001b[0;34m:\u001b[0m\u001b[0;34m\u001b[0m\u001b[0m\n\u001b[0;32m----> 2\u001b[0;31m     \u001b[0;32mfrom\u001b[0m \u001b[0mutility\u001b[0m \u001b[0;32mimport\u001b[0m \u001b[0mf\u001b[0m\u001b[0;34m\u001b[0m\u001b[0m\n\u001b[0m\u001b[1;32m      3\u001b[0m \u001b[0;34m\u001b[0m\u001b[0m\n\u001b[1;32m      4\u001b[0m \u001b[0mCompose\u001b[0m\u001b[0;34m(\u001b[0m\u001b[0;34m)\u001b[0m\u001b[0;34m.\u001b[0m\u001b[0mf\u001b[0m\u001b[0;34m(\u001b[0m\u001b[0;34m)\u001b[0m\u001b[0;34m\u001b[0m\u001b[0m\n",
      "\u001b[0;31mModuleNotFoundError\u001b[0m: No module named 'utility'"
     ]
    }
   ],
   "source": [
    "'''\n",
    "class Compose:\n",
    "    from utility import f\n",
    "\n",
    "Compose().f()\n",
    "'''"
   ]
  }
 ],
 "metadata": {
  "kernelspec": {
   "display_name": "Python 3",
   "language": "python",
   "name": "python3"
  },
  "language_info": {
   "codemirror_mode": {
    "name": "ipython",
    "version": 3
   },
   "file_extension": ".py",
   "mimetype": "text/x-python",
   "name": "python",
   "nbconvert_exporter": "python",
   "pygments_lexer": "ipython3",
   "version": "3.6.3"
  }
 },
 "nbformat": 4,
 "nbformat_minor": 2
}
